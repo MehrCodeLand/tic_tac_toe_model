{
  "cells": [
    {
      "cell_type": "code",
      "execution_count": null,
      "metadata": {
        "id": "Xwc1bBk86Gyw"
      },
      "outputs": [],
      "source": [
        "!pip install numpy torch"
      ]
    },
    {
      "cell_type": "code",
      "execution_count": null,
      "metadata": {
        "id": "Mw6aGI32JEF3"
      },
      "outputs": [],
      "source": [
        "import json\n",
        "import numpy as np\n",
        "import torch\n",
        "from torch.utils.data import Dataset, DataLoader\n",
        "import torch.nn as nn\n",
        "import torch.nn.functional as F\n",
        "import torch.optim as optim"
      ]
    },
    {
      "cell_type": "code",
      "execution_count": null,
      "metadata": {
        "id": "7_kZ0Hqw6ctn"
      },
      "outputs": [],
      "source": [
        "def transform_grid(actions, move_count):\n",
        "    state = [None] * 9\n",
        "    for action in actions:\n",
        "        if action['moveStep'] < move_count:\n",
        "            square = action['position']\n",
        "            state[square] = action['token']\n",
        "\n",
        "    transformed = []\n",
        "    for square in state:\n",
        "        if square == 'X':\n",
        "            transformed.append([1, 0, 0])\n",
        "        elif square == 'O':\n",
        "            transformed.append([0, 1, 0])\n",
        "        else:\n",
        "            transformed.append([0, 0, 1])\n",
        "\n",
        "    matrix = np.array(transformed).reshape(3, 3, 3)\n",
        "    matrix = np.transpose(matrix, (2, 0, 1))\n",
        "    return matrix\n"
      ]
    },
    {
      "cell_type": "code",
      "execution_count": null,
      "metadata": {
        "id": "rmEbJxI56fBH"
      },
      "outputs": [],
      "source": [
        "class GridGameDataset(Dataset):\n",
        "    def __init__(self, match_data):\n",
        "        self.records = []\n",
        "        for session in match_data:\n",
        "            actions = session['moves']\n",
        "            actions = sorted(actions, key=lambda act: act['moveNumber'])\n",
        "            for action in actions:\n",
        "                turn = action['moveNumber']\n",
        "                grid_snapshot = transform_grid(actions, turn)\n",
        "                target = action['cell']\n",
        "                self.records.append((grid_snapshot, target))\n",
        "\n",
        "    def __len__(self):\n",
        "        return len(self.records)\n",
        "\n",
        "    def __getitem__(self, index):\n",
        "        grid, target = self.records[index]\n",
        "        grid_tensor = torch.tensor(grid, dtype=torch.float32)\n",
        "        target_tensor = torch.tensor(target, dtype=torch.long)\n",
        "        return grid_tensor, target_tensor\n",
        "\n",
        "game_dataset = GridGameDataset(data)\n",
        "game_dataloader = DataLoader(game_dataset, batch_size=32, shuffle=True)\n",
        "\n",
        "print(f\"Total training samples: {len(game_dataset)}\")"
      ]
    },
    {
      "cell_type": "code",
      "execution_count": null,
      "metadata": {
        "colab": {
          "base_uri": "https://localhost:8080/"
        },
        "id": "mgMzK7cK6hfg",
        "outputId": "82222fbb-3f1d-4b6a-9ae0-fc38ff62329a"
      },
      "outputs": [
        {
          "name": "stderr",
          "output_type": "stream",
          "text": [
            "/usr/local/lib/python3.11/dist-packages/torch/nn/modules/transformer.py:385: UserWarning: enable_nested_tensor is True, but self.use_nested_tensor is False because encoder_layer.self_attn.batch_first was not True(use batch_first for better inference performance)\n",
            "  warnings.warn(\n"
          ]
        }
      ],
      "source": [
        "class TicTacToeModel(nn.Module):\n",
        "    def __init__(self):\n",
        "        super(TicTacToeModel, self).__init__()\n",
        "        self.conv1 = nn.Conv2d(in_channels=3, out_channels=32, kernel_size=2, padding=1)\n",
        "        self.conv2 = nn.Conv2d(in_channels=32, out_channels=64, kernel_size=2, padding=1)\n",
        "\n",
        "        self.embedding_dim = 64\n",
        "\n",
        "        self.flatten = nn.Flatten(2)\n",
        "\n",
        "        encoder_layer = nn.TransformerEncoderLayer(d_model=self.embedding_dim, nhead=4, dropout=0.1)\n",
        "        self.transformer_encoder = nn.TransformerEncoder(encoder_layer, num_layers=2)\n",
        "\n",
        "        self.fc = nn.Linear(25 * self.embedding_dim, 9)\n",
        "\n",
        "    def forward(self, x):\n",
        "        x = F.relu(self.conv1(x))\n",
        "        x = F.relu(self.conv2(x))\n",
        "        x = self.flatten(x)\n",
        "\n",
        "        x = x.permute(2, 0, 1)\n",
        "        x = self.transformer_encoder(x)\n",
        "\n",
        "        x = x.permute(1, 0, 2).reshape(x.size(1), -1)\n",
        "        out = self.fc(x)\n",
        "        return out\n",
        "\n",
        "model = TicTacToeModel()"
      ]
    },
    {
      "cell_type": "code",
      "execution_count": null,
      "metadata": {
        "id": "bZUlvqHhJQXi"
      },
      "outputs": [],
      "source": [
        "# Set up device, loss function, and optimizer\n",
        "device = torch.device('cuda' if torch.cuda.is_available() else 'cpu')\n",
        "model = model.to(device)"
      ]
    },
    {
      "cell_type": "code",
      "execution_count": null,
      "metadata": {
        "colab": {
          "base_uri": "https://localhost:8080/"
        },
        "id": "QiVIuT1O6mwj",
        "outputId": "ca75a5f0-c483-4632-939d-69da789effe4"
      },
      "outputs": [
        {
          "name": "stdout",
          "output_type": "stream",
          "text": [
            "Epoch 1/10, Loss: 2.4660\n",
            "Epoch 2/10, Loss: 2.0451\n",
            "Epoch 3/10, Loss: 1.7002\n",
            "Epoch 4/10, Loss: 1.4896\n",
            "Epoch 5/10, Loss: 1.3813\n",
            "Epoch 6/10, Loss: 1.3070\n",
            "Epoch 7/10, Loss: 1.3921\n",
            "Epoch 8/10, Loss: 1.2265\n",
            "Epoch 9/10, Loss: 1.2382\n",
            "Epoch 10/10, Loss: 1.1349\n"
          ]
        }
      ],
      "source": [
        "criterion_function = nn.CrossEntropyLoss()\n",
        "optim_function = optim.Adam(model.parameters(), lr=0.001)\n",
        "\n",
        "training_epochs = 10\n",
        "\n",
        "for iteration in range(training_epochs):\n",
        "    model.train()\n",
        "    cumulative_loss = 0.0\n",
        "    for inputs, targets in dataloader:\n",
        "        inputs = inputs.to(device)\n",
        "        targets = targets.to(device)\n",
        "\n",
        "        optim_function.zero_grad()\n",
        "        predictions = model(inputs)\n",
        "        error = criterion_function(predictions, targets)\n",
        "        error.backward()\n",
        "        optim_function.step()\n",
        "\n",
        "        cumulative_loss += error.item() * inputs.size(0)\n",
        "\n",
        "    average_loss = cumulative_loss / len(dataset)\n",
        "    print(f'Epoch {iteration+1}/{training_epochs}, Loss: {average_loss:.4f}')"
      ]
    },
    {
      "cell_type": "code",
      "execution_count": null,
      "metadata": {
        "id": "GP2DpZAs6uY2"
      },
      "outputs": [],
      "source": [
        "model.eval()\n",
        "sample_board, sample_label = dataset[0]\n",
        "with torch.no_grad():\n",
        "    sample_board = sample_board.unsqueeze(0).to(device)\n",
        "    output = model(sample_board)\n",
        "    predicted_move = torch.argmax(output, dim=1).item()\n",
        "\n",
        "print(\"True move:\", sample_label)\n",
        "print(\"Predicted move:\", predicted_move)"
      ]
    },
    {
      "cell_type": "code",
      "execution_count": null,
      "metadata": {
        "id": "rpdSseNp7QF9"
      },
      "outputs": [],
      "source": [
        "# Save the model's state dictionary\n",
        "torch.save(model.state_dict(), 'tic_tac_toe_model.pt')\n",
        "print(\"Model saved as tic_tac_toe_model.pt\")\n",
        "\n",
        "from google.colab import files\n",
        "files.download(\"tic_tac_toe_model.pt\")"
      ]
    },
    {
      "cell_type": "code",
      "execution_count": null,
      "metadata": {
        "id": "mTMsZc037VC3"
      },
      "outputs": [],
      "source": [
        "loaded_model = TicTacToeModel()\n",
        "\n",
        "loaded_model.load_state_dict(torch.load('tic_tac_toe_model.pt', map_location=device))\n",
        "loaded_model.to(device)\n",
        "loaded_model.eval()\n",
        "\n",
        "print(\"Model loaded and ready for inference.\")"
      ]
    },
    {
      "cell_type": "code",
      "execution_count": null,
      "metadata": {
        "id": "LGU1uY8e77YX"
      },
      "outputs": [],
      "source": [
        "# Retrieve a sample board state from the dataset\n",
        "sample_board, sample_label = dataset[0]\n",
        "\n",
        "sample_board = sample_board.unsqueeze(0).to(device)\n",
        "\n",
        "# Perform inference\n",
        "with torch.no_grad():\n",
        "    output = loaded_model(sample_board)\n",
        "    predicted_move = torch.argmax(output, dim=1).item()\n",
        "\n",
        "print(\"True move (cell index):\", sample_label)\n",
        "print(\"Predicted move (cell index):\", predicted_move)"
      ]
    },
    {
      "cell_type": "code",
      "execution_count": null,
      "metadata": {
        "id": "AxL0fDy68GuE"
      },
      "outputs": [],
      "source": [
        "custom_moves = [\n",
        "    {\"moveNumber\": 1, \"cell\": 0, \"symbol\": \"X\"},\n",
        "    {\"moveNumber\": 2, \"cell\": 4, \"symbol\": \"O\"},\n",
        "    {\"moveNumber\": 3, \"cell\": 1, \"symbol\": \"X\"},\n",
        "    {\"moveNumber\": 4, \"cell\": 8, \"symbol\": \"O\"},\n",
        "    {\"moveNumber\": 5, \"cell\": 6, \"symbol\": \"X\"},\n",
        "\n",
        "]\n",
        "custom_board = transform_grid(custom_moves, current_move_num=6)\n",
        "custom_board_tensor = torch.tensor(custom_board, dtype=torch.float32).unsqueeze(0).to(device)\n",
        "\n",
        "with torch.no_grad():\n",
        "    custom_output = loaded_model(custom_board_tensor)\n",
        "    custom_predicted_move = torch.argmax(custom_output, dim=1).item()\n",
        "\n",
        "print(\"For the custom board state, predicted move (cell index):\", custom_predicted_move)"
      ]
    },
    {
      "cell_type": "code",
      "execution_count": null,
      "metadata": {
        "colab": {
          "base_uri": "https://localhost:8080/"
        },
        "id": "0glZXe99-Txk",
        "outputId": "025ebe7c-f6b2-4f3d-ac79-bdaa31018025"
      },
      "outputs": [
        {
          "name": "stdout",
          "output_type": "stream",
          "text": [
            "Move 1: Player O plays cell 6\n",
            "[[None None None]\n",
            " [None None None]\n",
            " ['O' None None]]\n",
            "Move 2: Player X plays cell 8\n",
            "[[None None None]\n",
            " [None None None]\n",
            " ['O' None 'X']]\n",
            "Move 3: Player O plays cell 2\n",
            "[[None None 'O']\n",
            " [None None None]\n",
            " ['O' None 'X']]\n",
            "Move 4: Player X plays cell 7\n",
            "[[None None 'O']\n",
            " [None None None]\n",
            " ['O' 'X' 'X']]\n",
            "Move 5: Player O plays cell 3\n",
            "[[None None 'O']\n",
            " ['O' None None]\n",
            " ['O' 'X' 'X']]\n",
            "Move 6: Player X plays cell 0\n",
            "[['X' None 'O']\n",
            " ['O' None None]\n",
            " ['O' 'X' 'X']]\n",
            "Move 7: Player O plays cell 4\n",
            "[['X' None 'O']\n",
            " ['O' 'O' None]\n",
            " ['O' 'X' 'X']]\n",
            "Game ended: O wins!\n",
            "Game complete.\n"
          ]
        },
        {
          "data": {
            "text/plain": [
              "[{'moveNumber': 1, 'cell': np.int64(6), 'symbol': 'O'},\n",
              " {'moveNumber': 2, 'cell': np.int64(8), 'symbol': 'X'},\n",
              " {'moveNumber': 3, 'cell': np.int64(2), 'symbol': 'O'},\n",
              " {'moveNumber': 4, 'cell': np.int64(7), 'symbol': 'X'},\n",
              " {'moveNumber': 5, 'cell': np.int64(3), 'symbol': 'O'},\n",
              " {'moveNumber': 6, 'cell': np.int64(0), 'symbol': 'X'},\n",
              " {'moveNumber': 7, 'cell': np.int64(4), 'symbol': 'O'}]"
            ]
          },
          "execution_count": 27,
          "metadata": {},
          "output_type": "execute_result"
        }
      ],
      "source": [
        "import numpy as np\n",
        "import torch\n",
        "import torch.nn.functional as F\n",
        "\n",
        "def check_winner(board):\n",
        "    winning_combinations = [\n",
        "        [0, 1, 2],\n",
        "        [3, 4, 5],\n",
        "        [6, 7, 8],\n",
        "        [0, 3, 6],\n",
        "        [1, 4, 7],\n",
        "        [2, 5, 8],\n",
        "        [0, 4, 8],\n",
        "        [2, 4, 6]\n",
        "    ]\n",
        "    for combo in winning_combinations:\n",
        "        a, b, c = combo\n",
        "        if board[a] is not None and board[a] == board[b] == board[c]:\n",
        "            return board[a]\n",
        "    return None\n",
        "\n",
        "def simulate_game_random(model, starting_symbol='O'):\n",
        "    board = [None] * 9\n",
        "    current_symbol = starting_symbol\n",
        "    moves = []\n",
        "\n",
        "    for move_num in range(1, 10):\n",
        "        winner = check_winner(board)\n",
        "        if winner is not None:\n",
        "            print(f\"Game ended: {winner} wins!\")\n",
        "            break\n",
        "\n",
        "        if None not in board:\n",
        "            print(\"Game ended in a draw!\")\n",
        "            break\n",
        "\n",
        "        fake_moves = [\n",
        "            {\"moveNumber\": i+1, \"cell\": m['cell'], \"symbol\": m['symbol']}\n",
        "            for i, m in enumerate(moves)\n",
        "        ]\n",
        "        board_input = transform_grid(fake_moves, move_num)\n",
        "        board_tensor = torch.tensor(board_input, dtype=torch.float32).unsqueeze(0).to(device)\n",
        "\n",
        "        with torch.no_grad():\n",
        "            output = model(board_tensor)\n",
        "            probs = F.softmax(output, dim=1).cpu().numpy().flatten()\n",
        "        valid_cells = [i for i, cell in enumerate(board) if cell is None]\n",
        "        if len(valid_cells) == 0:\n",
        "            break\n",
        "\n",
        "        valid_probs = np.array([probs[i] for i in valid_cells])\n",
        "        valid_probs = valid_probs / valid_probs.sum()\n",
        "\n",
        "        chosen_cell = np.random.choice(valid_cells, p=valid_probs)\n",
        "        board[chosen_cell] = current_symbol\n",
        "        moves.append({\"moveNumber\": move_num, \"cell\": chosen_cell, \"symbol\": current_symbol})\n",
        "\n",
        "        print(f\"Move {move_num}: Player {current_symbol} plays cell {chosen_cell}\")\n",
        "        print(np.array(board).reshape(3, 3))\n",
        "\n",
        "        winner = check_winner(board)\n",
        "        if winner is not None:\n",
        "            print(f\"Game ended: {winner} wins!\")\n",
        "            break\n",
        "        if None not in board:\n",
        "            print(\"Game ended in a draw!\")\n",
        "            break\n",
        "\n",
        "        current_symbol = 'O' if current_symbol == 'X' else 'X'\n",
        "\n",
        "    print(\"Game complete.\")\n",
        "    return moves\n",
        "\n",
        "simulate_game_random(loaded_model)"
      ]
    },
    {
      "cell_type": "code",
      "execution_count": null,
      "metadata": {
        "colab": {
          "base_uri": "https://localhost:8080/"
        },
        "id": "rOw7o4bjKarK",
        "outputId": "b57bad08-abb0-409d-c2ff-305f4986a25e"
      },
      "outputs": [
        {
          "name": "stdout",
          "output_type": "stream",
          "text": [
            "Move 1: Player O plays cell 6\n",
            "[[None None None]\n",
            " [None None None]\n",
            " ['O' None None]]\n",
            "Move 2: Player X plays cell 2\n",
            "[[None None 'X']\n",
            " [None None None]\n",
            " ['O' None None]]\n",
            "Move 3: Player O plays cell 8\n",
            "[[None None 'X']\n",
            " [None None None]\n",
            " ['O' None 'O']]\n",
            "Move 4: Player X plays cell 0\n",
            "[['X' None 'X']\n",
            " [None None None]\n",
            " ['O' None 'O']]\n",
            "Winning move available [7], but model chose 4.\n",
            "Move 5: Player O plays cell 4\n",
            "[['X' None 'X']\n",
            " [None 'O' None]\n",
            " ['O' None 'O']]\n",
            "Move 6: Player X plays cell 1\n",
            "[['X' 'X' 'X']\n",
            " [None 'O' None]\n",
            " ['O' None 'O']]\n",
            "Game ended: X wins!\n",
            "Game complete.\n",
            "Winning Move Accuracy: 50.00% (1 / 2 times)\n"
          ]
        },
        {
          "data": {
            "text/plain": [
              "[{'moveNumber': 1, 'cell': np.int64(6), 'symbol': 'O'},\n",
              " {'moveNumber': 2, 'cell': np.int64(2), 'symbol': 'X'},\n",
              " {'moveNumber': 3, 'cell': np.int64(8), 'symbol': 'O'},\n",
              " {'moveNumber': 4, 'cell': np.int64(0), 'symbol': 'X'},\n",
              " {'moveNumber': 5, 'cell': np.int64(4), 'symbol': 'O'},\n",
              " {'moveNumber': 6, 'cell': np.int64(1), 'symbol': 'X'}]"
            ]
          },
          "execution_count": 28,
          "metadata": {},
          "output_type": "execute_result"
        }
      ],
      "source": [
        "import numpy as np\n",
        "import torch\n",
        "import torch.nn.functional as F\n",
        "\n",
        "def check_winner(board):\n",
        "    winning_combinations = [\n",
        "        [0, 1, 2],\n",
        "        [3, 4, 5],\n",
        "        [6, 7, 8],\n",
        "        [0, 3, 6],\n",
        "        [1, 4, 7],\n",
        "        [2, 5, 8],\n",
        "        [0, 4, 8],\n",
        "        [2, 4, 6]\n",
        "    ]\n",
        "    for combo in winning_combinations:\n",
        "        a, b, c = combo\n",
        "        if board[a] is not None and board[a] == board[b] == board[c]:\n",
        "            return board[a]\n",
        "    return None\n",
        "\n",
        "\n",
        "def get_winning_moves(board, player):\n",
        "    winning_moves = []\n",
        "    for cell in range(9):\n",
        "        if board[cell] is None:\n",
        "            temp_board = board.copy()\n",
        "            temp_board[cell] = player\n",
        "            if check_winner(temp_board) == player:\n",
        "                winning_moves.append(cell)\n",
        "    return winning_moves\n",
        "\n",
        "def simulate_game_random(model, starting_symbol='O'):\n",
        "    board = [None] * 9\n",
        "    current_symbol = starting_symbol\n",
        "    moves = []\n",
        "\n",
        "    total_winning_situations = 0\n",
        "    correct_winning_moves = 0\n",
        "\n",
        "    for move_num in range(1, 10):\n",
        "\n",
        "        winner = check_winner(board)\n",
        "        if winner is not None:\n",
        "            print(f\"Game ended: {winner} wins!\")\n",
        "            break\n",
        "        if None not in board:\n",
        "            print(\"Game ended in a draw!\")\n",
        "            break\n",
        "        winning_moves = get_winning_moves(board, current_symbol)\n",
        "        if winning_moves:\n",
        "            total_winning_situations += 1\n",
        "\n",
        "        fake_moves = [\n",
        "            {\"moveNumber\": i+1, \"cell\": m['cell'], \"symbol\": m['symbol']}\n",
        "            for i, m in enumerate(moves)\n",
        "        ]\n",
        "        board_input = transform_grid(fake_moves, move_num)\n",
        "        board_tensor = torch.tensor(board_input, dtype=torch.float32).unsqueeze(0).to(device)\n",
        "\n",
        "        with torch.no_grad():\n",
        "            output = model(board_tensor)\n",
        "            probs = F.softmax(output, dim=1).cpu().numpy().flatten()\n",
        "\n",
        "        valid_cells = [i for i, cell in enumerate(board) if cell is None]\n",
        "        if len(valid_cells) == 0:\n",
        "            break\n",
        "        valid_probs = np.array([probs[i] for i in valid_cells])\n",
        "        valid_probs = valid_probs / valid_probs.sum()\n",
        "\n",
        "        chosen_cell = np.random.choice(valid_cells, p=valid_probs)\n",
        "\n",
        "        if winning_moves:\n",
        "            if chosen_cell in winning_moves:\n",
        "                correct_winning_moves += 1\n",
        "            else:\n",
        "                print(f\"Winning move available {winning_moves}, but model chose {chosen_cell}.\")\n",
        "\n",
        "        board[chosen_cell] = current_symbol\n",
        "        moves.append({\"moveNumber\": move_num, \"cell\": chosen_cell, \"symbol\": current_symbol})\n",
        "\n",
        "        print(f\"Move {move_num}: Player {current_symbol} plays cell {chosen_cell}\")\n",
        "        print(np.array(board).reshape(3, 3))\n",
        "\n",
        "        winner = check_winner(board)\n",
        "        if winner is not None:\n",
        "            print(f\"Game ended: {winner} wins!\")\n",
        "            break\n",
        "        if None not in board:\n",
        "            print(\"Game ended in a draw!\")\n",
        "            break\n",
        "        current_symbol = 'O' if current_symbol == 'X' else 'X'\n",
        "\n",
        "    print(\"Game complete.\")\n",
        "\n",
        "    if total_winning_situations > 0:\n",
        "        accuracy = correct_winning_moves / total_winning_situations * 100\n",
        "        print(f\"Winning Move Accuracy: {accuracy:.2f}% ({correct_winning_moves} / {total_winning_situations} times)\")\n",
        "    else:\n",
        "        print(\"No winning move situations encountered.\")\n",
        "\n",
        "    return moves\n",
        "simulate_game_random(loaded_model)"
      ]
    },
    {
      "cell_type": "code",
      "execution_count": null,
      "metadata": {
        "id": "lAMRXQlqUP8Y"
      },
      "outputs": [],
      "source": [
        "def simulate_game_random_with_accuracy(model, starting_symbol='O'):\n",
        "    board = [None] * 9\n",
        "    current_symbol = starting_symbol\n",
        "    moves = []\n",
        "\n",
        "    total_winning_situations = 0\n",
        "    correct_winning_moves = 0\n",
        "\n",
        "    for move_num in range(1, 10):\n",
        "        if check_winner(board) is not None or None not in board:\n",
        "            break\n",
        "        winning_moves = get_winning_moves(board, current_symbol)\n",
        "        if winning_moves:\n",
        "            total_winning_situations += 1\n",
        "        fake_moves = [\n",
        "            {\"moveNumber\": i + 1, \"cell\": m['cell'], \"symbol\": m['symbol']}\n",
        "            for i, m in enumerate(moves)\n",
        "        ]\n",
        "        board_input = transform_grid(fake_moves, move_num)\n",
        "        board_tensor = torch.tensor(board_input, dtype=torch.float32).unsqueeze(0).to(device)\n",
        "\n",
        "        with torch.no_grad():\n",
        "            output = model(board_tensor)\n",
        "            probs = F.softmax(output, dim=1).cpu().numpy().flatten()\n",
        "\n",
        "        valid_cells = [i for i, cell in enumerate(board) if cell is None]\n",
        "        if not valid_cells:\n",
        "            break\n",
        "        valid_probs = np.array([probs[i] for i in valid_cells])\n",
        "        valid_probs = valid_probs / valid_probs.sum()\n",
        "\n",
        "        chosen_cell = np.random.choice(valid_cells, p=valid_probs)\n",
        "        if winning_moves and chosen_cell in winning_moves:\n",
        "            correct_winning_moves += 1\n",
        "        board[chosen_cell] = current_symbol\n",
        "        moves.append({\"moveNumber\": move_num, \"cell\": chosen_cell, \"symbol\": current_symbol})\n",
        "        if check_winner(board) is not None:\n",
        "            break\n",
        "        current_symbol = 'O' if current_symbol == 'X' else 'X'\n",
        "    return moves, total_winning_situations, correct_winning_moves\n",
        "\n",
        "def test_simulation_games(model, num_games=50, starting_symbol='O'):\n",
        "    total_ws = 0\n",
        "    total_correct = 0\n",
        "    for i in range(num_games):\n",
        "        _, ws, correct = simulate_game_random_with_accuracy(model, starting_symbol)\n",
        "        total_ws += ws\n",
        "        total_correct += correct\n",
        "\n",
        "    if total_ws > 0:\n",
        "        avg_accuracy = total_correct / total_ws * 100\n",
        "    else:\n",
        "        avg_accuracy = 0.0\n",
        "    print(f\"Average Winning Move Accuracy over {num_games} games: {avg_accuracy:.2f}%\")"
      ]
    },
    {
      "cell_type": "code",
      "execution_count": null,
      "metadata": {
        "colab": {
          "base_uri": "https://localhost:8080/"
        },
        "id": "zN3-0uu2V0RU",
        "outputId": "dbb47fa2-6ed7-43aa-c637-95d897f4adeb"
      },
      "outputs": [
        {
          "name": "stdout",
          "output_type": "stream",
          "text": [
            "Average Winning Move Accuracy over 50 games: 40.22%\n"
          ]
        }
      ],
      "source": [
        "test_simulation_games(loaded_model)"
      ]
    }
  ],
  "metadata": {
    "colab": {
      "provenance": []
    },
    "kernelspec": {
      "display_name": "Python 3",
      "name": "python3"
    },
    "language_info": {
      "name": "python"
    }
  },
  "nbformat": 4,
  "nbformat_minor": 0
}
